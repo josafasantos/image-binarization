{
 "cells": [
  {
   "cell_type": "code",
   "execution_count": 18,
   "id": "074a5c04",
   "metadata": {},
   "outputs": [],
   "source": [
    "from PIL import Image\n",
    "import numpy as np\n",
    "\n",
    "# Leitura da imagem\n",
    "img = Image.open('3.jpg')\n",
    "\n",
    "# Conversão para escala de cinza\n",
    "img_gray = img.convert('L')\n",
    "\n",
    "# Obtendo os pixels da imagem em escala de cinza\n",
    "pixels = np.array(img_gray)\n",
    "\n",
    "# Aplicação do desfoque gaussiano\n",
    "kernel = np.array([[1, 2, 1], [2, 4, 2], [1, 2, 1]]) / 16.0\n",
    "suave = np.zeros_like(pixels)\n",
    "for i in range(1, pixels.shape[0] - 1):\n",
    "    for j in range(1, pixels.shape[1] - 1):\n",
    "        suave[i, j] = np.sum(pixels[i-1:i+2, j-1:j+2] * kernel)\n",
    "\n",
    "# Limiarização binária\n",
    "threshold = 160\n",
    "binarized = np.where(suave >= threshold, 255, 0).astype(np.uint8)\n",
    "\n",
    "# Limiarização binária invertida\n",
    "binarized_inv = np.where(suave >= threshold, 0, 255).astype(np.uint8)\n",
    "\n",
    "# Combinação das imagens para exibição\n",
    "result = np.concatenate((np.concatenate((suave, binarized), axis=1),\n",
    "                         np.concatenate((binarized_inv, pixels & binarized_inv), axis=1)), axis=0)\n",
    "\n",
    "# Exibição da imagem resultante\n",
    "result_img = Image.fromarray(result)\n",
    "result_img.show()"
   ]
  }
 ],
 "metadata": {
  "kernelspec": {
   "display_name": "Python 3 (ipykernel)",
   "language": "python",
   "name": "python3"
  },
  "language_info": {
   "codemirror_mode": {
    "name": "ipython",
    "version": 3
   },
   "file_extension": ".py",
   "mimetype": "text/x-python",
   "name": "python",
   "nbconvert_exporter": "python",
   "pygments_lexer": "ipython3",
   "version": "3.9.12"
  }
 },
 "nbformat": 4,
 "nbformat_minor": 5
}
